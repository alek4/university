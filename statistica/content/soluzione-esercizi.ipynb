{
 "cells": [
  {
   "cell_type": "code",
   "execution_count": 10,
   "id": "24811f84",
   "metadata": {},
   "outputs": [
    {
     "data": {
      "image/png": "[encoded data removed]",
      "text/plain": [
       "<Figure size 640x480 with 1 Axes>"
      ]
     },
     "metadata": {},
     "output_type": "display_data"
    }
   ],
   "source": [
    "import matplotlib.pyplot as plt\n",
    "import math\n",
    "import numpy as np\n",
    "\n",
    "def poisson_pdf(x, lambda_):\n",
    "    return math.e**(-lambda_) * lambda_**x / math.factorial(x)\n",
    "\n",
    "lambda_ = 5\n",
    "#x = np.arange(0, 15) # per calcolare in modo più intelligente l'upper bound posso vedere il livello del quantile (vedi dopo per esempio)\n",
    "x = np.arange(0, int(X.ppf(0.999)+1))\n",
    "y = [poisson_pdf(k, lambda_) for k in x]\n",
    "\n",
    "plt.vlines(x, 0, y)\n",
    "plt.plot(x, y, 'o')\n",
    "plt.ylabel('$p_X$')\n",
    "plt.show()"
   ]
  },
  {
   "cell_type": "code",
   "execution_count": 11,
   "id": "ef368a81",
   "metadata": {},
   "outputs": [
    {
     "data": {
      "text/plain": [
       "0.23781653702706118"
      ]
     },
     "execution_count": 11,
     "metadata": {},
     "output_type": "execute_result"
    }
   ],
   "source": [
    "1 - sum([poisson_pdf(x, lambda_) for x in range(7)])"
   ]
  },
  {
   "cell_type": "code",
   "execution_count": 12,
   "id": "0ab24c4e",
   "metadata": {},
   "outputs": [],
   "source": [
    "import scipy.stats as st\n",
    "\n",
    "X = st.poisson(lambda_)"
   ]
  },
  {
   "cell_type": "code",
   "execution_count": 13,
   "id": "1c9b9931",
   "metadata": {},
   "outputs": [
    {
     "data": {
      "text/plain": [
       "0.2378165370270613"
      ]
     },
     "execution_count": 13,
     "metadata": {},
     "output_type": "execute_result"
    }
   ],
   "source": [
    "1 - X.cdf(6)"
   ]
  },
  {
   "cell_type": "code",
   "execution_count": 14,
   "id": "f53dafc0",
   "metadata": {},
   "outputs": [
    {
     "name": "stdout",
     "output_type": "stream",
     "text": [
      "7\n"
     ]
    }
   ],
   "source": [
    "cdf  = 0\n",
    "x = -1\n",
    "while cdf < 0.8:\n",
    "    x += 1\n",
    "    cdf += poisson_pdf(x, lambda_)\n",
    "\n",
    "print(x)"
   ]
  },
  {
   "cell_type": "code",
   "execution_count": 15,
   "id": "c65f366e",
   "metadata": {},
   "outputs": [
    {
     "data": {
      "text/plain": [
       "(0.7621834629729387, 0.8666283259299925, 0.9319063652781516)"
      ]
     },
     "execution_count": 15,
     "metadata": {},
     "output_type": "execute_result"
    }
   ],
   "source": [
    "X.cdf(6), X.cdf(7), X.cdf(8) "
   ]
  },
  {
   "cell_type": "code",
   "execution_count": 16,
   "id": "f996f495",
   "metadata": {},
   "outputs": [
    {
     "data": {
      "text/plain": [
       "7.0"
      ]
     },
     "execution_count": 16,
     "metadata": {},
     "output_type": "execute_result"
    }
   ],
   "source": [
    "X.ppf(0.8)"
   ]
  },
  {
   "cell_type": "markdown",
   "id": "1683b55d",
   "metadata": {},
   "source": [
    "## Esercizio 3"
   ]
  },
  {
   "cell_type": "code",
   "execution_count": 17,
   "id": "03dfe38c",
   "metadata": {},
   "outputs": [
    {
     "data": {
      "text/html": [
       "<div>\n",
       "<style scoped>\n",
       "    .dataframe tbody tr th:only-of-type {\n",
       "        vertical-align: middle;\n",
       "    }\n",
       "\n",
       "    .dataframe tbody tr th {\n",
       "        vertical-align: top;\n",
       "    }\n",
       "\n",
       "    .dataframe thead th {\n",
       "        text-align: right;\n",
       "    }\n",
       "</style>\n",
       "<table border=\"1\" class=\"dataframe\">\n",
       "  <thead>\n",
       "    <tr style=\"text-align: right;\">\n",
       "      <th></th>\n",
       "      <th>NomeSorgente</th>\n",
       "      <th>Oro</th>\n",
       "      <th>DurezzaAcqua</th>\n",
       "    </tr>\n",
       "  </thead>\n",
       "  <tbody>\n",
       "    <tr>\n",
       "      <th>0</th>\n",
       "      <td>Sorgente1</td>\n",
       "      <td>0</td>\n",
       "      <td>21.201381</td>\n",
       "    </tr>\n",
       "    <tr>\n",
       "      <th>1</th>\n",
       "      <td>Sorgente1</td>\n",
       "      <td>0</td>\n",
       "      <td>25.294662</td>\n",
       "    </tr>\n",
       "    <tr>\n",
       "      <th>2</th>\n",
       "      <td>Sorgente1</td>\n",
       "      <td>4</td>\n",
       "      <td>12.435279</td>\n",
       "    </tr>\n",
       "    <tr>\n",
       "      <th>3</th>\n",
       "      <td>Sorgente1</td>\n",
       "      <td>3</td>\n",
       "      <td>16.146828</td>\n",
       "    </tr>\n",
       "    <tr>\n",
       "      <th>4</th>\n",
       "      <td>Sorgente1</td>\n",
       "      <td>0</td>\n",
       "      <td>21.091517</td>\n",
       "    </tr>\n",
       "  </tbody>\n",
       "</table>\n",
       "</div>"
      ],
      "text/plain": [
       "  NomeSorgente  Oro  DurezzaAcqua\n",
       "0    Sorgente1    0     21.201381\n",
       "1    Sorgente1    0     25.294662\n",
       "2    Sorgente1    4     12.435279\n",
       "3    Sorgente1    3     16.146828\n",
       "4    Sorgente1    0     21.091517"
      ]
     },
     "execution_count": 17,
     "metadata": {},
     "output_type": "execute_result"
    }
   ],
   "source": [
    "import pandas as pd\n",
    "\n",
    "acqua = pd.read_csv('data/ComposizioneAcqua.csv')\n",
    "\n",
    "acqua.head(5)"
   ]
  },
  {
   "cell_type": "code",
   "execution_count": 18,
   "id": "6649ff74",
   "metadata": {},
   "outputs": [
    {
     "name": "stdout",
     "output_type": "stream",
     "text": [
      "NomeSorgente,Oro,DurezzaAcqua\r",
      "\r\n",
      "Sorgente1,0,21.20138141309851\r",
      "\r\n",
      "Sorgente1,0,25.29466190715501\r",
      "\r\n",
      "Sorgente1,4,12.435278700238802\r",
      "\r\n",
      "Sorgente1,3,16.14682761938843\r",
      "\r\n",
      "Sorgente1,0,21.091516798421658\r",
      "\r\n",
      "Sorgente1,1,19.382918269327455\r",
      "\r\n",
      "Sorgente1,0,19.918711717237283\r",
      "\r\n",
      "Sorgente1,2,20.628650107974902\r",
      "\r\n",
      "Sorgente1,1,20.53701213413951\r",
      "\r\n"
     ]
    }
   ],
   "source": [
    "!head data/ComposizioneAcqua.csv"
   ]
  },
  {
   "cell_type": "code",
   "execution_count": 19,
   "id": "36de791e",
   "metadata": {},
   "outputs": [
    {
     "data": {
      "text/plain": [
       "1650"
      ]
     },
     "execution_count": 19,
     "metadata": {},
     "output_type": "execute_result"
    }
   ],
   "source": [
    "len(acqua)"
   ]
  },
  {
   "cell_type": "code",
   "execution_count": 20,
   "id": "8de2f746",
   "metadata": {},
   "outputs": [
    {
     "data": {
      "text/plain": [
       "8250"
      ]
     },
     "execution_count": 20,
     "metadata": {},
     "output_type": "execute_result"
    }
   ],
   "source": [
    "len(acqua) * 5"
   ]
  },
  {
   "cell_type": "code",
   "execution_count": 21,
   "id": "9663a0ce",
   "metadata": {},
   "outputs": [
    {
     "data": {
      "text/plain": [
       "5"
      ]
     },
     "execution_count": 21,
     "metadata": {},
     "output_type": "execute_result"
    }
   ],
   "source": [
    "acqua['NomeSorgente'].nunique()"
   ]
  },
  {
   "cell_type": "code",
   "execution_count": 22,
   "id": "f8c1a0c4",
   "metadata": {},
   "outputs": [],
   "source": [
    "# attributo categorico, mi chiede se è rappresentato in modo uniforme => indice di Gini (eterogeneità)\n",
    "freq = acqua['NomeSorgente'].value_counts(normalize = True)"
   ]
  },
  {
   "cell_type": "code",
   "execution_count": 23,
   "id": "6406d392",
   "metadata": {},
   "outputs": [
    {
     "data": {
      "text/plain": [
       "0.980257116620753"
      ]
     },
     "execution_count": 23,
     "metadata": {},
     "output_type": "execute_result"
    }
   ],
   "source": [
    "def gini(freq):\n",
    "    ''' Calcola l'indice di Gini in una tabella di frequenzr di un attributo\n",
    "    \n",
    "    -freq: serie pandas che contiene le frequenze relative\n",
    "    \n",
    "    '''\n",
    "    return 1 - (freq ** 2).sum()\n",
    "\n",
    "def normalized_gini(freq):\n",
    "    n = len(freq)\n",
    "    return gini(freq) * n / (n - 1)\n",
    "\n",
    "normalized_gini(acqua['NomeSorgente'].value_counts(normalize=True))"
   ]
  },
  {
   "cell_type": "code",
   "execution_count": 43,
   "id": "ea192ca3",
   "metadata": {},
   "outputs": [],
   "source": [
    "oro_freq = acqua['Oro'].value_counts()"
   ]
  },
  {
   "cell_type": "code",
   "execution_count": 46,
   "id": "f90bd6a6",
   "metadata": {},
   "outputs": [
    {
     "data": {
      "image/png": "[encoded data removed]",
      "text/plain": [
       "<Figure size 640x480 with 1 Axes>"
      ]
     },
     "metadata": {},
     "output_type": "display_data"
    }
   ],
   "source": [
    "# se distribuzione discreta, grafico bastoncini o a barre\n",
    "# vedi risultato su L12\n",
    "\n",
    "plt.vlines(oro_freq.index, 0, oro_freq)\n",
    "plt.plot(oro_freq.index, oro_freq, 'o')\n",
    "plt.show()"
   ]
  },
  {
   "cell_type": "code",
   "execution_count": 26,
   "id": "5a57e7f4",
   "metadata": {},
   "outputs": [],
   "source": [
    "# è compatibile con un modello di poisson"
   ]
  },
  {
   "cell_type": "code",
   "execution_count": 27,
   "id": "02a2d9a3",
   "metadata": {},
   "outputs": [
    {
     "data": {
      "text/plain": [
       "1.7224242424242424"
      ]
     },
     "execution_count": 27,
     "metadata": {},
     "output_type": "execute_result"
    }
   ],
   "source": [
    "acqua['Oro'].mean() # la mia stima per il valore atteso"
   ]
  },
  {
   "cell_type": "code",
   "execution_count": 47,
   "id": "ee053e93",
   "metadata": {},
   "outputs": [
    {
     "data": {
      "text/plain": [
       "3.4025896319164715"
      ]
     },
     "execution_count": 47,
     "metadata": {},
     "output_type": "execute_result"
    }
   ],
   "source": [
    "acqua['Oro'].var() \n",
    "# prima ho scritto che è compatibile ma qui ho trovato la varianza diversa dal valore atteso... \n",
    "# quindi non segue una distribuzione di Poisson(?)"
   ]
  },
  {
   "cell_type": "code",
   "execution_count": 29,
   "id": "f47ef477",
   "metadata": {},
   "outputs": [
    {
     "data": {
      "text/plain": [
       "0"
      ]
     },
     "execution_count": 29,
     "metadata": {},
     "output_type": "execute_result"
    }
   ],
   "source": [
    "acqua['Oro'].isna().sum() # implicita conversione False = 0, True = 1"
   ]
  },
  {
   "cell_type": "code",
   "execution_count": 30,
   "id": "6dfb9fa2",
   "metadata": {},
   "outputs": [
    {
     "data": {
      "image/png": "[encoded data removed]",
      "text/plain": [
       "<Figure size 640x480 with 1 Axes>"
      ]
     },
     "metadata": {},
     "output_type": "display_data"
    }
   ],
   "source": [
    "acqua['DurezzaAcqua'].hist(bins=40)\n",
    "plt.show()"
   ]
  },
  {
   "cell_type": "code",
   "execution_count": 31,
   "id": "10a20353",
   "metadata": {},
   "outputs": [
    {
     "data": {
      "image/png": "[encoded data removed]",
      "text/plain": [
       "<Figure size 640x480 with 1 Axes>"
      ]
     },
     "metadata": {},
     "output_type": "display_data"
    }
   ],
   "source": [
    "acqua.plot.scatter('DurezzaAcqua', 'Oro')\n",
    "plt.show()"
   ]
  },
  {
   "cell_type": "code",
   "execution_count": 32,
   "id": "16542877",
   "metadata": {},
   "outputs": [
    {
     "data": {
      "text/plain": [
       "-0.842768630507854"
      ]
     },
     "execution_count": 32,
     "metadata": {},
     "output_type": "execute_result"
    }
   ],
   "source": [
    "acqua['Oro'].corr(acqua['DurezzaAcqua'])"
   ]
  },
  {
   "cell_type": "code",
   "execution_count": 33,
   "id": "6c25a873",
   "metadata": {},
   "outputs": [
    {
     "data": {
      "text/html": [
       "<div>\n",
       "<style scoped>\n",
       "    .dataframe tbody tr th:only-of-type {\n",
       "        vertical-align: middle;\n",
       "    }\n",
       "\n",
       "    .dataframe tbody tr th {\n",
       "        vertical-align: top;\n",
       "    }\n",
       "\n",
       "    .dataframe thead th {\n",
       "        text-align: right;\n",
       "    }\n",
       "</style>\n",
       "<table border=\"1\" class=\"dataframe\">\n",
       "  <thead>\n",
       "    <tr style=\"text-align: right;\">\n",
       "      <th></th>\n",
       "      <th>Oro</th>\n",
       "      <th>DurezzaAcqua</th>\n",
       "    </tr>\n",
       "    <tr>\n",
       "      <th>NomeSorgente</th>\n",
       "      <th></th>\n",
       "      <th></th>\n",
       "    </tr>\n",
       "  </thead>\n",
       "  <tbody>\n",
       "    <tr>\n",
       "      <th>Sorgente1</th>\n",
       "      <td>0.970000</td>\n",
       "      <td>21.009675</td>\n",
       "    </tr>\n",
       "    <tr>\n",
       "      <th>Sorgente2</th>\n",
       "      <td>1.048000</td>\n",
       "      <td>20.836725</td>\n",
       "    </tr>\n",
       "    <tr>\n",
       "      <th>Sorgente3</th>\n",
       "      <td>1.120000</td>\n",
       "      <td>20.696062</td>\n",
       "    </tr>\n",
       "    <tr>\n",
       "      <th>Sorgente4</th>\n",
       "      <td>1.068000</td>\n",
       "      <td>20.917371</td>\n",
       "    </tr>\n",
       "    <tr>\n",
       "      <th>Sorgente5</th>\n",
       "      <td>4.228571</td>\n",
       "      <td>7.754144</td>\n",
       "    </tr>\n",
       "  </tbody>\n",
       "</table>\n",
       "</div>"
      ],
      "text/plain": [
       "                   Oro  DurezzaAcqua\n",
       "NomeSorgente                        \n",
       "Sorgente1     0.970000     21.009675\n",
       "Sorgente2     1.048000     20.836725\n",
       "Sorgente3     1.120000     20.696062\n",
       "Sorgente4     1.068000     20.917371\n",
       "Sorgente5     4.228571      7.754144"
      ]
     },
     "execution_count": 33,
     "metadata": {},
     "output_type": "execute_result"
    }
   ],
   "source": [
    "acqua.groupby('NomeSorgente').mean()"
   ]
  },
  {
   "cell_type": "code",
   "execution_count": 34,
   "id": "58bf8714",
   "metadata": {},
   "outputs": [
    {
     "name": "stdout",
     "output_type": "stream",
     "text": [
      "Sorgente1: 21.01\n",
      "Sorgente2: 20.84\n",
      "Sorgente3: 20.70\n",
      "Sorgente4: 20.92\n",
      "Sorgente5: 7.75\n"
     ]
    }
   ],
   "source": [
    "# senza groupby\n",
    "for n in acqua['NomeSorgente'].unique():\n",
    "    mean = acqua.loc[acqua['NomeSorgente'] == n, 'DurezzaAcqua'].mean()\n",
    "    print(f'{n}: {mean:.2f}')"
   ]
  },
  {
   "cell_type": "code",
   "execution_count": 35,
   "id": "165f2563",
   "metadata": {},
   "outputs": [
    {
     "ename": "SyntaxError",
     "evalue": "invalid syntax (3801464723.py, line 3)",
     "output_type": "error",
     "traceback": [
      "\u001b[0;36m  Cell \u001b[0;32mIn[35], line 3\u001b[0;36m\u001b[0m\n\u001b[0;31m    lambda_ =\u001b[0m\n\u001b[0m              ^\u001b[0m\n\u001b[0;31mSyntaxError\u001b[0m\u001b[0;31m:\u001b[0m invalid syntax\n"
     ]
    }
   ],
   "source": [
    "import statsmodels.api as sm\n",
    "\n",
    "lambda_ = \n",
    "\n",
    "sm.qqplot(dist=st.poisson())"
   ]
  },
  {
   "cell_type": "code",
   "execution_count": null,
   "id": "ac5b265e",
   "metadata": {},
   "outputs": [],
   "source": []
  },
  {
   "cell_type": "code",
   "execution_count": null,
   "id": "fde32b95",
   "metadata": {},
   "outputs": [],
   "source": []
  }
 ],
 "metadata": {
  "kernelspec": {
   "display_name": "Python 3 (ipykernel)",
   "language": "python",
   "name": "python3"
  },
  "language_info": {
   "codemirror_mode": {
    "name": "ipython",
    "version": 3
   },
   "file_extension": ".py",
   "mimetype": "text/x-python",
   "name": "python",
   "nbconvert_exporter": "python",
   "pygments_lexer": "ipython3",
   "version": "3.10.9"
  }
 },
 "nbformat": 4,
 "nbformat_minor": 5
}
